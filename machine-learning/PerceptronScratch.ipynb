{
 "cells": [
  {
   "cell_type": "markdown",
   "id": "3deab8aa",
   "metadata": {},
   "source": [
    "## **Exercise 1: Perceptron from Scratch**\n",
    "\n",
    "In this exercise, you will be implemnting a perceptron from scratch then comparing its results with scikit learn perceptron implementation. "
   ]
  },
  {
   "cell_type": "markdown",
   "id": "a0c7c3a6",
   "metadata": {},
   "source": [
    "#### **A)** Import needed libraries"
   ]
  },
  {
   "cell_type": "code",
   "execution_count": 3,
   "id": "e8508264",
   "metadata": {},
   "outputs": [],
   "source": [
    "# Import numpy and sklearn perceptron\n",
    "import numpy as np\n",
    "from sklearn.linear_model import Perceptron"
   ]
  },
  {
   "cell_type": "markdown",
   "id": "a074f33c",
   "metadata": {},
   "source": [
    "#### **B)** Create MyPerceptron class"
   ]
  },
  {
   "cell_type": "code",
   "execution_count": 32,
   "id": "a3cb15a1",
   "metadata": {},
   "outputs": [],
   "source": [
    "class MyPerceptron(object):\n",
    "    # Define the __init__ method which initialize the object’s attributes \n",
    "    # weights_bias is a numpy array. 1st element is the bias. Remaining elements are the weights.\n",
    "    # iterations is the number of times the process will run to optimize the weights and bias. \n",
    "    # learning_rate is constant that controls the updates.\n",
    "    def __init__(self, weights_bias, iterations=100, learning_rate=0.01):\n",
    "        # B.1 Initialize weights_bias, iterations, and learning_rate\n",
    "        self.weights = weights_bias\n",
    "        self.iterations = iterations\n",
    "        self.learning_rate = learning_rate\n",
    "    \n",
    "    # Define a method for predicting the output given one input sample\n",
    "    def predictOne(self, inputs):\n",
    "        # B.2 Calculate the weighted sum \n",
    "        summation = (self.weights[1] * inputs[0]) + (self.weights[2] * inputs[1]) + self.weights[0] \n",
    "        # B.3 Set the activation value based on the summation result\n",
    "        if summation > 0:\n",
    "            activation = 1\n",
    "            \n",
    "        elif summation <= 0:\n",
    "            activation = 0\n",
    "            \n",
    "        return activation\n",
    "    \n",
    "    # Define a method for predicting the output given a numpy array of inputs\n",
    "    def predict(self, training_inputs):\n",
    "        # B.4 Using predictOne method, loop through the training_inputs and predict the output \n",
    "        index = 0\n",
    "        predictions = []\n",
    "        while index < len(training_inputs):\n",
    "            activation = self.predictOne(training_inputs[index])\n",
    "            predictions.append(activation)\n",
    "            index+=1\n",
    "        # return a numpy array of the outputs\n",
    "        return predictions\n",
    "    \n",
    "    # Define a method for training a percepton. \n",
    "    # The weights and bias are updated when the prediction is not correct. \n",
    "    # The process runs based on the defined number of iterations. \n",
    "    def train(self, training_inputs, labels):\n",
    "        # B.4 Loop through the iterations\n",
    "            index = 0\n",
    "            iteri = 0\n",
    "            hit = 0\n",
    "            while iteri < self.iterations:\n",
    "                while index < len(labels):\n",
    "                    actv = self.predictOne(training_inputs[index])\n",
    "                    if actv == labels[index]:\n",
    "                        #correct prediction\n",
    "                        hit+=1\n",
    "                        index+=1\n",
    "                        \n",
    "\n",
    "                    elif actv != labels[index]:\n",
    "                        #wrong prediction, updating the weights\n",
    "                        self.weights[1] = self.weights[1] + self.learning_rate*(labels[index] - actv) * training_inputs[index][0]\n",
    "                        self.weights[2] = self.weights[2] + self.learning_rate*(labels[index] - actv) * training_inputs[index][1]\n",
    "                        #updating bias\n",
    "                        self.weights[0] = self.weights[0] +  self.learning_rate*(labels[index] - actv)\n",
    "                iteri+=1\n",
    "\n",
    "            accuracy = (hit/len(labels)) * 100\n",
    "            accuracy = round(accuracy, 2)\n",
    "            print (f\"Accuracy After weight adjustment = {accuracy}%\")\n",
    "                "
   ]
  },
  {
   "cell_type": "code",
   "execution_count": 33,
   "id": "1bbd3e26",
   "metadata": {},
   "outputs": [],
   "source": [
    "training_data = np.array([[10, 143], [1, 87], [10, 135], [8, 123], [7, 125], [2, 81], [7, 118], \n",
    "                          [3, 92], [1, 85], [8, 148]])\n",
    "labels = np.array([1, 0, 1, 1, 1, 0, 1, 0, 0, 1])"
   ]
  },
  {
   "cell_type": "markdown",
   "id": "4c8e86a1",
   "metadata": {},
   "source": [
    "#### **C)** Train a MyPerceptron model"
   ]
  },
  {
   "cell_type": "code",
   "execution_count": 35,
   "id": "0689fcf5",
   "metadata": {},
   "outputs": [
    {
     "name": "stdout",
     "output_type": "stream",
     "text": [
      "Accuracy After weight change = 100.0%\n",
      "Prediction (%) = 10.0%\n"
     ]
    }
   ],
   "source": [
    "# C.1 Create an instance of MyPerceptron with the following parameters:\n",
    "# bias = 0.5, w1 = 0.5, w2 = 0.5, iterations=50, learning_rate=0.2\n",
    "TestModel = MyPerceptron([0.5,0.5,0.5], iterations=50, learning_rate=0.2)\n",
    "# C.2 Train the perceptron by passing the training_data and labels\n",
    "TestModel.train(training_data, labels)\n",
    "predictions = TestModel.predict(training_data)\n",
    "i = 0 \n",
    "for i in range(len(labels)):\n",
    "    count = 0\n",
    "    if labels[i] ==  predictions[i]:\n",
    "        count += 1\n",
    "\n",
    "acc = (count / len(labels)) * 100\n",
    "acc = round(acc,2)\n",
    "print (f\"Prediction (%) = {acc}%\")\n",
    "# C.3 Predict the outputs and calculate the accuracy of the model\n"
   ]
  },
  {
   "cell_type": "markdown",
   "id": "8df55e7c",
   "metadata": {},
   "source": [
    "#### **D)** Train a Perceptron model (sklearn)"
   ]
  },
  {
   "cell_type": "code",
   "execution_count": 44,
   "id": "4b2c2b26",
   "metadata": {},
   "outputs": [
    {
     "name": "stdout",
     "output_type": "stream",
     "text": [
      "1.0\n"
     ]
    }
   ],
   "source": [
    "from sklearn.metrics import accuracy_score\n",
    "# D.1 Create an instance of sklearn Perceptron with the following parameters:\n",
    "# max_iter = 50, eta0 = 0.2, shuffle = False, random_state=1\n",
    "model = Perceptron(max_iter = 50, eta0 = 0.2, shuffle = False, random_state=1)\n",
    "# D.2 Train the perceptron by passing the training_data and labels\n",
    "model.fit(training_data, labels)\n",
    "# D.3 Calculate the accuracy of the model\n",
    "print(accuracy_score(labels, model.predict(training_data)))"
   ]
  },
  {
   "cell_type": "code",
   "execution_count": null,
   "id": "f156c8b2",
   "metadata": {},
   "outputs": [],
   "source": []
  }
 ],
 "metadata": {
  "kernelspec": {
   "display_name": "Python 3 (ipykernel)",
   "language": "python",
   "name": "python3"
  },
  "language_info": {
   "codemirror_mode": {
    "name": "ipython",
    "version": 3
   },
   "file_extension": ".py",
   "mimetype": "text/x-python",
   "name": "python",
   "nbconvert_exporter": "python",
   "pygments_lexer": "ipython3",
   "version": "3.10.8"
  }
 },
 "nbformat": 4,
 "nbformat_minor": 5
}
