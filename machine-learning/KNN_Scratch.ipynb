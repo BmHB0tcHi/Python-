{
 "cells": [
  {
   "cell_type": "markdown",
   "id": "33ed5dda",
   "metadata": {},
   "source": [
    "## **Exercise 1: KNN from Scratch**\n",
    "\n",
    "In this exercise, you will be implemnting a KNN model from scratch."
   ]
  },
  {
   "cell_type": "markdown",
   "id": "437585e0",
   "metadata": {},
   "source": [
    "#### **A)** Import needed libraries"
   ]
  },
  {
   "cell_type": "code",
   "execution_count": 87,
   "id": "e478039a",
   "metadata": {},
   "outputs": [],
   "source": [
    "import numpy as np\n",
    "import scipy.stats"
   ]
  },
  {
   "cell_type": "markdown",
   "id": "934ecf5c",
   "metadata": {},
   "source": [
    "#### **B)** Create MyKNN class"
   ]
  },
  {
   "cell_type": "code",
   "execution_count": 88,
   "id": "fc0342ec",
   "metadata": {},
   "outputs": [],
   "source": [
    "class MyKNN(object):\n",
    "    # Defining the __init__ method which initialize the object’s attributes \n",
    "    def __init__(self, k=3):\n",
    "        self.k = k\n",
    "    \n",
    "    def fit(self, X_train, y_train):\n",
    "        self.X = X_train\n",
    "        self.y = y_train\n",
    "    \n",
    "    def euclidean_distance(self, v1, v2):\n",
    "        return np.linalg.norm(v1 - v2)\n",
    "    \n",
    "    def predictOne(self, x):\n",
    "        # Calculating the distances between x and all samples in the training set\n",
    "        distances = [self.euclidean_distance(x,point) for point in self.X]\n",
    "        distances = np.array(distances)\n",
    "        closest_distances = distances.argsort()[:self.k]\n",
    "        neighbours = self.y[closest_distances]\n",
    "        prediction = scipy.stats.mode(neighbours)[0]\n",
    "        #print (prediction)\n",
    "        return prediction\n",
    "        \n",
    "   \n",
    "    def predict(self, X):\n",
    "        # Finding the predicted label for each element in X\n",
    "        predictions = []\n",
    "        index = 0\n",
    "        while index < len(X):\n",
    "            prediction = self.predictOne(X[index])\n",
    "            predictions.append(prediction[0])\n",
    "            index+=1\n",
    "        return predictions\n"
   ]
  },
  {
   "cell_type": "code",
   "execution_count": 99,
   "id": "5f9b2467",
   "metadata": {},
   "outputs": [],
   "source": [
    "training_data = np.array([[10, 143], [1, 87], [10, 135], [8, 123], [7, 125], [2, 81], [7, 118], \n",
    "                          [3, 92], [1, 85], [8, 148]])\n",
    "labels = np.array([1, 0, 1, 1, 1, 0, 1, 0, 0, 1])"
   ]
  },
  {
   "cell_type": "code",
   "execution_count": 106,
   "id": "d2838082",
   "metadata": {},
   "outputs": [],
   "source": [
    "def acc(predicted, actual):\n",
    "    index = 0\n",
    "    count = 0\n",
    "    if len(predicted) != len(actual):\n",
    "        print (\"[ERROR] Array sizes dont match\")\n",
    "        return 0\n",
    "    else:\n",
    "        while index < len(predicted):\n",
    "            if predicted[index] == actual[index]:\n",
    "                count += 1\n",
    "            index+=1\n",
    "        acc = (count/len(predicted)) * 100\n",
    "        print (f\"Accuracy of the model = {round(acc,2)}%\")\n",
    "        return acc"
   ]
  },
  {
   "cell_type": "markdown",
   "id": "1db69957",
   "metadata": {},
   "source": [
    "#### **C)** Train a MyKNN model"
   ]
  },
  {
   "cell_type": "code",
   "execution_count": 107,
   "id": "4b52528d",
   "metadata": {},
   "outputs": [
    {
     "name": "stdout",
     "output_type": "stream",
     "text": [
      "[1, 0, 1, 1, 1, 0, 1, 0, 0, 1]\n",
      "Accuracy of the model = 100.0%\n"
     ]
    },
    {
     "name": "stderr",
     "output_type": "stream",
     "text": [
      "/tmp/ipykernel_3237/4119008953.py:19: FutureWarning: Unlike other reduction functions (e.g. `skew`, `kurtosis`), the default behavior of `mode` typically preserves the axis it acts along. In SciPy 1.11.0, this behavior will change: the default value of `keepdims` will become False, the `axis` over which the statistic is taken will be eliminated, and the value None will no longer be accepted. Set `keepdims` to True or False to avoid this warning.\n",
      "  prediction = scipy.stats.mode(neighbours)[0]\n"
     ]
    }
   ],
   "source": [
    "model = MyKNN(k=3)\n",
    "model.fit(training_data, labels)\n",
    "\n",
    "predictions = model.predict(training_data)\n",
    "print (predictions)\n",
    "\n",
    "acc = acc(predictions,labels)"
   ]
  },
  {
   "cell_type": "code",
   "execution_count": null,
   "id": "9e428b05",
   "metadata": {},
   "outputs": [],
   "source": []
  }
 ],
 "metadata": {
  "kernelspec": {
   "display_name": "Python 3 (ipykernel)",
   "language": "python",
   "name": "python3"
  },
  "language_info": {
   "codemirror_mode": {
    "name": "ipython",
    "version": 3
   },
   "file_extension": ".py",
   "mimetype": "text/x-python",
   "name": "python",
   "nbconvert_exporter": "python",
   "pygments_lexer": "ipython3",
   "version": "3.10.8"
  }
 },
 "nbformat": 4,
 "nbformat_minor": 5
}
