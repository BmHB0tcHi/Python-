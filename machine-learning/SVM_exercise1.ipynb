{
 "cells": [
  {
   "cell_type": "markdown",
   "metadata": {
    "colab": {
     "base_uri": "https://localhost:8080/"
    },
    "id": "UnA-CQvZQdzb",
    "outputId": "e7dee500-9bed-464e-e189-e394fb829d05"
   },
   "source": [
    "## **Exercise 2: Support Vector Machine**\n",
    "\n",
    "\n",
    "In this exercise, you will be building and tuning a model to detect spam SMS using SVM algorithm. \n",
    "\n",
    "**A)** Read the csv file \"SMSSpamCollection\". \n",
    "\n",
    "**B)** Create a function that preprocesses the SMS text and apply it on the SMS column. \n",
    "\n",
    "**C)** Extract features from the SMS text using CountVectorizer.\n",
    "\n",
    "**D)** Split the data into training and testing datasets.\n",
    "\n",
    "**E)** Instantiate a SVC classifier and fit it on the training data. \n",
    "\n",
    "**F)** Predict the output for the test data and calculate the accuracy. \n",
    "\n",
    "**G)** Create a function to calculate the specificity. \n",
    "\n",
    "**H)** Optimize the parameters based on the accuracy.\n",
    "\n",
    "**I)** Optimize the parameters based on the specificity. "
   ]
  },
  {
   "cell_type": "code",
   "execution_count": 2,
   "metadata": {},
   "outputs": [],
   "source": [
    "# Import needed libraries\n",
    "import pandas as pd\n",
    "import numpy as np\n",
    "import string\n",
    "from sklearn.feature_extraction.text import CountVectorizer\n",
    "from sklearn.model_selection import train_test_split\n",
    "from sklearn.svm import SVC"
   ]
  },
  {
   "cell_type": "markdown",
   "metadata": {},
   "source": [
    "### **A)** "
   ]
  },
  {
   "cell_type": "code",
   "execution_count": 3,
   "metadata": {
    "id": "vJ-t9ERDStpP"
   },
   "outputs": [],
   "source": [
    "# Read the csv file \"SMSSpamCollection.csv\"\n",
    "sms_data = pd.read_csv('Datasets/SMSSpamCollection.csv')"
   ]
  },
  {
   "cell_type": "markdown",
   "metadata": {},
   "source": [
    "### **B)** "
   ]
  },
  {
   "cell_type": "code",
   "execution_count": 48,
   "metadata": {
    "id": "gdsxcc7XTojg"
   },
   "outputs": [],
   "source": [
    "# Define a function that takes the message string as input and does the following:\n",
    "# 1. Convert all characters to lower case\n",
    "# 2. Remove all punctuation (\"string.punctuation\" contains a list of punctuations)\n",
    "# 3. Remove all digits (\"string.digits\" contains a list of numbers)\n",
    "# 4. Returns a string of the processed text\n",
    "def text_process(message):\n",
    "    message_proc = [char.lower() for char in message if (char not in string.punctuation) and (char not in string.digits)]\n",
    "    message_proc = ''.join(message_proc)\n",
    "    return message_proc"
   ]
  },
  {
   "cell_type": "code",
   "execution_count": 49,
   "metadata": {
    "id": "h1BFIsL0UZtu"
   },
   "outputs": [],
   "source": [
    "sms_data['SMS_processed'] = sms_data['SMS'].apply(text_process)"
   ]
  },
  {
   "cell_type": "markdown",
   "metadata": {},
   "source": [
    "### **C)** "
   ]
  },
  {
   "cell_type": "code",
   "execution_count": 50,
   "metadata": {
    "id": "WSjcle7dVJ37"
   },
   "outputs": [],
   "source": [
    "vectorizer = CountVectorizer(stop_words=\"english\")\n",
    "X = vectorizer.fit_transform(sms_data['SMS_processed'])\n",
    "y = sms_data['Label']"
   ]
  },
  {
   "cell_type": "markdown",
   "metadata": {},
   "source": [
    "### **D)** "
   ]
  },
  {
   "cell_type": "code",
   "execution_count": 51,
   "metadata": {
    "id": "xt8QmERXVx5h"
   },
   "outputs": [],
   "source": [
    "# splitting data\n",
    "X_train, X_test, y_train, y_test = train_test_split(X, y, stratify=y, test_size=0.25, random_state=0)\n"
   ]
  },
  {
   "cell_type": "markdown",
   "metadata": {},
   "source": [
    "### **E)** "
   ]
  },
  {
   "cell_type": "code",
   "execution_count": 52,
   "metadata": {
    "colab": {
     "base_uri": "https://localhost:8080/"
    },
    "id": "4yml_W_bZ-vb",
    "outputId": "a399f054-88c6-4eed-8511-9d5703971954"
   },
   "outputs": [
    {
     "data": {
      "text/html": [
       "<style>#sk-container-id-3 {color: black;background-color: white;}#sk-container-id-3 pre{padding: 0;}#sk-container-id-3 div.sk-toggleable {background-color: white;}#sk-container-id-3 label.sk-toggleable__label {cursor: pointer;display: block;width: 100%;margin-bottom: 0;padding: 0.3em;box-sizing: border-box;text-align: center;}#sk-container-id-3 label.sk-toggleable__label-arrow:before {content: \"▸\";float: left;margin-right: 0.25em;color: #696969;}#sk-container-id-3 label.sk-toggleable__label-arrow:hover:before {color: black;}#sk-container-id-3 div.sk-estimator:hover label.sk-toggleable__label-arrow:before {color: black;}#sk-container-id-3 div.sk-toggleable__content {max-height: 0;max-width: 0;overflow: hidden;text-align: left;background-color: #f0f8ff;}#sk-container-id-3 div.sk-toggleable__content pre {margin: 0.2em;color: black;border-radius: 0.25em;background-color: #f0f8ff;}#sk-container-id-3 input.sk-toggleable__control:checked~div.sk-toggleable__content {max-height: 200px;max-width: 100%;overflow: auto;}#sk-container-id-3 input.sk-toggleable__control:checked~label.sk-toggleable__label-arrow:before {content: \"▾\";}#sk-container-id-3 div.sk-estimator input.sk-toggleable__control:checked~label.sk-toggleable__label {background-color: #d4ebff;}#sk-container-id-3 div.sk-label input.sk-toggleable__control:checked~label.sk-toggleable__label {background-color: #d4ebff;}#sk-container-id-3 input.sk-hidden--visually {border: 0;clip: rect(1px 1px 1px 1px);clip: rect(1px, 1px, 1px, 1px);height: 1px;margin: -1px;overflow: hidden;padding: 0;position: absolute;width: 1px;}#sk-container-id-3 div.sk-estimator {font-family: monospace;background-color: #f0f8ff;border: 1px dotted black;border-radius: 0.25em;box-sizing: border-box;margin-bottom: 0.5em;}#sk-container-id-3 div.sk-estimator:hover {background-color: #d4ebff;}#sk-container-id-3 div.sk-parallel-item::after {content: \"\";width: 100%;border-bottom: 1px solid gray;flex-grow: 1;}#sk-container-id-3 div.sk-label:hover label.sk-toggleable__label {background-color: #d4ebff;}#sk-container-id-3 div.sk-serial::before {content: \"\";position: absolute;border-left: 1px solid gray;box-sizing: border-box;top: 0;bottom: 0;left: 50%;z-index: 0;}#sk-container-id-3 div.sk-serial {display: flex;flex-direction: column;align-items: center;background-color: white;padding-right: 0.2em;padding-left: 0.2em;position: relative;}#sk-container-id-3 div.sk-item {position: relative;z-index: 1;}#sk-container-id-3 div.sk-parallel {display: flex;align-items: stretch;justify-content: center;background-color: white;position: relative;}#sk-container-id-3 div.sk-item::before, #sk-container-id-3 div.sk-parallel-item::before {content: \"\";position: absolute;border-left: 1px solid gray;box-sizing: border-box;top: 0;bottom: 0;left: 50%;z-index: -1;}#sk-container-id-3 div.sk-parallel-item {display: flex;flex-direction: column;z-index: 1;position: relative;background-color: white;}#sk-container-id-3 div.sk-parallel-item:first-child::after {align-self: flex-end;width: 50%;}#sk-container-id-3 div.sk-parallel-item:last-child::after {align-self: flex-start;width: 50%;}#sk-container-id-3 div.sk-parallel-item:only-child::after {width: 0;}#sk-container-id-3 div.sk-dashed-wrapped {border: 1px dashed gray;margin: 0 0.4em 0.5em 0.4em;box-sizing: border-box;padding-bottom: 0.4em;background-color: white;}#sk-container-id-3 div.sk-label label {font-family: monospace;font-weight: bold;display: inline-block;line-height: 1.2em;}#sk-container-id-3 div.sk-label-container {text-align: center;}#sk-container-id-3 div.sk-container {/* jupyter's `normalize.less` sets `[hidden] { display: none; }` but bootstrap.min.css set `[hidden] { display: none !important; }` so we also need the `!important` here to be able to override the default hidden behavior on the sphinx rendered scikit-learn.org. See: https://github.com/scikit-learn/scikit-learn/issues/21755 */display: inline-block !important;position: relative;}#sk-container-id-3 div.sk-text-repr-fallback {display: none;}</style><div id=\"sk-container-id-3\" class=\"sk-top-container\"><div class=\"sk-text-repr-fallback\"><pre>SVC()</pre><b>In a Jupyter environment, please rerun this cell to show the HTML representation or trust the notebook. <br />On GitHub, the HTML representation is unable to render, please try loading this page with nbviewer.org.</b></div><div class=\"sk-container\" hidden><div class=\"sk-item\"><div class=\"sk-estimator sk-toggleable\"><input class=\"sk-toggleable__control sk-hidden--visually\" id=\"sk-estimator-id-3\" type=\"checkbox\" checked><label for=\"sk-estimator-id-3\" class=\"sk-toggleable__label sk-toggleable__label-arrow\">SVC</label><div class=\"sk-toggleable__content\"><pre>SVC()</pre></div></div></div></div></div>"
      ],
      "text/plain": [
       "SVC()"
      ]
     },
     "execution_count": 52,
     "metadata": {},
     "output_type": "execute_result"
    }
   ],
   "source": [
    "# Instantiate a SVC classifier and fit it on the training data.\n",
    "model_svc  = SVC()\n",
    "model_svc.fit(X_train, y_train)"
   ]
  },
  {
   "cell_type": "markdown",
   "metadata": {},
   "source": [
    "### **F)** "
   ]
  },
  {
   "cell_type": "code",
   "execution_count": 53,
   "metadata": {
    "colab": {
     "base_uri": "https://localhost:8080/"
    },
    "id": "Zk-bH3SEc-qZ",
    "outputId": "76f85870-7c80-4d7b-c05c-3b60becdde10"
   },
   "outputs": [
    {
     "data": {
      "text/plain": [
       "0.9634146341463414"
      ]
     },
     "execution_count": 53,
     "metadata": {},
     "output_type": "execute_result"
    }
   ],
   "source": [
    "# Calculating the accuracy\n",
    "model_svc.score(X_test, y_test)"
   ]
  },
  {
   "cell_type": "markdown",
   "metadata": {},
   "source": [
    "### **G)** "
   ]
  },
  {
   "cell_type": "code",
   "execution_count": 54,
   "metadata": {},
   "outputs": [
    {
     "name": "stdout",
     "output_type": "stream",
     "text": [
      "Specificity of the model = 72.73%\n"
     ]
    }
   ],
   "source": [
    "# Calculating the specificity (True Negative Rate)\n",
    "def specificity(model, X_test, y_test):\n",
    "    y_pred = model.predict(X_test)\n",
    "    y_test = np.array(y_test)\n",
    "    \n",
    "    # Counters\n",
    "    index = 0\n",
    "    hit = 0\n",
    "    spam_total = 0\n",
    "    for index in range(len(y_pred)):\n",
    "        if y_pred[index] == y_test[index]:\n",
    "            if y_test[index] == \"spam\":\n",
    "                hit += 1\n",
    "                \n",
    "        if y_test[index] == \"spam\":\n",
    "            spam_total += 1\n",
    "    #specifity = correctly predicted spam in predictions / total spam in actual values \n",
    "    spec = (hit/spam_total)*100\n",
    "    spec = round(spec,2)\n",
    "    return spec\n",
    "\n",
    "\n",
    "spec = specificity(model_svc, X_test, y_test)\n",
    "print (f\"Specificity of the model = {spec}%\")"
   ]
  },
  {
   "cell_type": "markdown",
   "metadata": {},
   "source": [
    "### **H)** "
   ]
  },
  {
   "cell_type": "code",
   "execution_count": 55,
   "metadata": {},
   "outputs": [
    {
     "name": "stdout",
     "output_type": "stream",
     "text": [
      "Highest accuracy score:  0.9784791965566715\n",
      "Parameters used:  {'ktype': 'linear', 'C': 0.3, 'gamma': 'auto'}\n",
      "Highest specificity score:  84.49\n",
      "Parameters used:  {'ktype': 'linear', 'C': 0.3, 'gamma': 'auto'}\n"
     ]
    }
   ],
   "source": [
    "# Manually optimizing parameters for both accuracy and specificity\n",
    "c_values = np.arange(0.05, 1.05, 0.05)\n",
    "params = {\"kernel\": [\"linear\", \"rbf\", \"poly\", \"sigmoid\"], \"C\": c_values, \"gamma\": [\"auto\", \"scale\"]}\n",
    "\n",
    "opt_params = {}\n",
    "best_score = 0\n",
    "best_spec = 0\n",
    "opt_params_spec = {}\n",
    "for ktype in params[\"kernel\"]:\n",
    "    for c in params[\"C\"]:\n",
    "        for gamma in params[\"gamma\"]:\n",
    "            svc = SVC(kernel=ktype, C=c, gamma=gamma)\n",
    "            svc.fit(X_train, y_train)\n",
    "            acc = svc.score(X_test, y_test)\n",
    "            spec = specificity(svc, X_test, y_test)\n",
    "            if spec > best_spec:\n",
    "                best_spec = spec\n",
    "                opt_params_spec[\"ktype\"] = ktype\n",
    "                opt_params_spec[\"C\"] = c\n",
    "                opt_params_spec[\"gamma\"] = gamma\n",
    "            if acc > best_score:\n",
    "                best_score = acc\n",
    "                opt_params[\"ktype\"] = ktype\n",
    "                opt_params[\"C\"] = c\n",
    "                opt_params[\"gamma\"] = gamma\n",
    "            \n",
    "print(\"Highest accuracy score: \", best_score)\n",
    "print(\"Parameters used: \", opt_params)\n",
    "print(\"Highest specificity score: \", best_spec)\n",
    "print(\"Parameters used: \", opt_params_spec)"
   ]
  },
  {
   "cell_type": "code",
   "execution_count": null,
   "metadata": {},
   "outputs": [],
   "source": []
  }
 ],
 "metadata": {
  "colab": {
   "provenance": []
  },
  "kernelspec": {
   "display_name": "Python 3 (ipykernel)",
   "language": "python",
   "name": "python3"
  },
  "language_info": {
   "codemirror_mode": {
    "name": "ipython",
    "version": 3
   },
   "file_extension": ".py",
   "mimetype": "text/x-python",
   "name": "python",
   "nbconvert_exporter": "python",
   "pygments_lexer": "ipython3",
   "version": "3.10.8"
  }
 },
 "nbformat": 4,
 "nbformat_minor": 1
}
